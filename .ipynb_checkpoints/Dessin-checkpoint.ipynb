{
 "cells": [
  {
   "cell_type": "markdown",
   "id": "e34aa0cc-28e3-4538-8d65-34c84d6adcb0",
   "metadata": {},
   "source": [
    "## Fonctions utiles"
   ]
  },
  {
   "cell_type": "code",
   "execution_count": null,
   "id": "b393d9da-5436-4055-b0a7-af8e296636af",
   "metadata": {},
   "outputs": [
    {
     "name": "stderr",
     "output_type": "stream",
     "text": [
      "2024-10-07 21:05:50.520 Python[3945:350629] +[IMKClient subclass]: chose IMKClient_Legacy\n",
      "2024-10-07 21:05:50.520 Python[3945:350629] +[IMKInputSession subclass]: chose IMKInputSession_Legacy\n"
     ]
    },
    {
     "name": "stdout",
     "output_type": "stream",
     "text": [
      "Les masques ont été créés et sauvegardés.\n"
     ]
    }
   ],
   "source": [
    "import cv2\n",
    "import numpy as np\n",
    "from tkinter import *\n",
    "from PIL import Image, ImageTk\n",
    "\n",
    "class LassoApp:\n",
    "    def __init__(self, root, image_path):\n",
    "        self.root = root\n",
    "        self.root.title(\"Lasso Drawing App\")\n",
    "\n",
    "        # Charger l'image avec OpenCV\n",
    "        self.image = cv2.imread(image_path)\n",
    "        self.image = cv2.cvtColor(self.image, cv2.COLOR_BGR2RGB)  # Convertir en RGB pour Tkinter\n",
    "        self.original_image = self.image.copy()\n",
    "\n",
    "        # Créer un canvas pour l'affichage de l'image\n",
    "        self.canvas = Canvas(root, width=self.image.shape[1], height=self.image.shape[0])\n",
    "        self.canvas.pack()\n",
    "\n",
    "        # Convertir l'image pour la mettre dans Tkinter\n",
    "        self.photo = ImageTk.PhotoImage(image=Image.fromarray(self.image))\n",
    "        self.canvas_image = self.canvas.create_image(0, 0, anchor=NW, image=self.photo)\n",
    "\n",
    "        # Variables pour suivre la position du dessin\n",
    "        self.drawing = False\n",
    "        \n",
    "        self.points = []  # Liste pour stocker les points du lasso\n",
    "\n",
    "        # Lier les événements de la souris\n",
    "        self.canvas.bind(\"<ButtonPress-1>\", self.start_draw)\n",
    "        self.canvas.bind(\"<B1-Motion>\", self.draw)\n",
    "        self.canvas.bind(\"<ButtonRelease-1>\", self.stop_draw)\n",
    "\n",
    "    def start_draw(self, event):\n",
    "        \"\"\"Commence le dessin.\"\"\"\n",
    "        self.drawing = True\n",
    "        self.points = [(event.x, event.y)]  # Commence à stocker les points du lasso\n",
    "\n",
    "    def draw(self, event):\n",
    "        \"\"\"Trace le lasso en noir.\"\"\"\n",
    "        if self.drawing:\n",
    "            # Dessiner une ligne entre le dernier point et le nouveau point\n",
    "            cv2.line(self.image, self.points[-1], (event.x, event.y), (0, 0, 0), thickness=1)\n",
    "            self.points.append((event.x, event.y))  # Ajouter les nouveaux points à la liste\n",
    "            self.update_image()\n",
    "\n",
    "    def stop_draw(self, event):\n",
    "        \"\"\"Arrête le dessin et remplit le lasso s'il est fermé.\"\"\"\n",
    "        self.drawing = False\n",
    "        if len(self.points) > 2:  # On ne remplit que si on a au moins 3 points\n",
    "            # Fermer le lasso en reliant le dernier point au premier\n",
    "            cv2.line(self.image, self.points[-1], self.points[0], (0, 0, 0), thickness=1)\n",
    "\n",
    "            # Remplir l'intérieur du lasso\n",
    "            pts = np.array(self.points, dtype=np.int32)\n",
    "            cv2.fillPoly(self.image, [pts], (0, 0, 0))  # Remplir la forme fermée en noir\n",
    "            self.update_image()\n",
    "\n",
    "            # Créer les deux nouvelles images\n",
    "            self.create_masks(pts)\n",
    "\n",
    "    def create_masks(self, pts):\n",
    "        \"\"\"Créer deux masques à partir du lasso.\"\"\"\n",
    "        # Taille de l'image\n",
    "        h, w, _ = self.image.shape\n",
    "\n",
    "        # Première image : intérieur à 0, extérieur à 1, bordure à 0\n",
    "        mask_inside_outside = np.ones((h, w), dtype=np.uint8)\n",
    "        cv2.fillPoly(mask_inside_outside, [pts], 0)  # Remplir l'intérieur du lasso avec 0\n",
    "        cv2.polylines(mask_inside_outside, [pts], isClosed=True, color=0, thickness=1)  # Bordure à 0\n",
    "\n",
    "        # Deuxième image : bordure à 1, le reste à 0, bordure d'un pixel\n",
    "        mask_border = np.zeros((h, w), dtype=np.uint8)\n",
    "        cv2.polylines(mask_border, [pts], isClosed=True, color=1, thickness=1)  # Bordure à 1 (1 pixel de large)\n",
    "\n",
    "        # Sauvegarder les deux images\n",
    "        cv2.imwrite(\"filled_region_mask.png\", mask_inside_outside * 255)  # Sauvegarder en format binaire\n",
    "        cv2.imwrite(\"mask_border.png\", mask_border * 255)\n",
    "\n",
    "        print(\"Les masques ont été créés et sauvegardés.\")\n",
    "\n",
    "    def update_image(self):\n",
    "        \"\"\"Met à jour l'image dans le canvas.\"\"\"\n",
    "        self.photo = ImageTk.PhotoImage(image=Image.fromarray(self.image))\n",
    "        self.canvas.itemconfig(self.canvas_image, image=self.photo)\n",
    "\n",
    "if __name__ == \"__main__\":\n",
    "    root = Tk()\n",
    "    app = LassoApp(root, \"after.jpg\")  # Remplace \"ton_image.jpg\" par le chemin de ton image\n",
    "    root.mainloop()\n"
   ]
  }
 ],
 "metadata": {
  "kernelspec": {
   "display_name": "Python 3 (ipykernel)",
   "language": "python",
   "name": "python3"
  },
  "language_info": {
   "codemirror_mode": {
    "name": "ipython",
    "version": 3
   },
   "file_extension": ".py",
   "mimetype": "text/x-python",
   "name": "python",
   "nbconvert_exporter": "python",
   "pygments_lexer": "ipython3",
   "version": "3.12.0"
  }
 },
 "nbformat": 4,
 "nbformat_minor": 5
}
