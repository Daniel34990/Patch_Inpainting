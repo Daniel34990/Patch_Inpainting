{
 "cells": [
  {
   "cell_type": "markdown",
   "id": "70827fd9-0189-4d5f-9f7e-0b8847377c94",
   "metadata": {},
   "source": [
    "### Implémentation de Exemplar-based inpainting"
   ]
  },
  {
   "cell_type": "code",
   "execution_count": 73,
   "id": "a4a567a0-9cb3-40f8-bbe2-d0a87d025a1f",
   "metadata": {},
   "outputs": [],
   "source": [
    "from PIL import Image\n",
    "import numpy as np\n",
    "import matplotlib.pyplot as plt\n",
    "import cv2"
   ]
  },
  {
   "cell_type": "markdown",
   "id": "b46bdf7e-7f79-4bc9-9d3f-3812ff4aabbd",
   "metadata": {},
   "source": [
    "### Etape 1a. (Identify the fill front)"
   ]
  },
  {
   "cell_type": "code",
   "execution_count": 74,
   "id": "45879a47-8d91-4b58-82df-383fbfb15a48",
   "metadata": {},
   "outputs": [],
   "source": [
    "# Charger les images\n",
    "image = Image.open(\"fleur.tif\")\n",
    "mask_border = Image.open(\"mask_border.png\")\n",
    "filled_region_mask = Image.open(\"filled_region_mask.png\")\n",
    "fleurs = Image.open(\"fleur.tif\")\n",
    "\n",
    "# Convertir l'image en tableau NumPy\n",
    "mask_border = np.array(mask_border)/255\n",
    "filled_region_mask = np.array(filled_region_mask)/255\n",
    "image_np = np.array(image)/255"
   ]
  },
  {
   "cell_type": "markdown",
   "id": "f2fb195b-3bab-44ee-9079-d099d676b6ae",
   "metadata": {},
   "source": [
    "### Etape 1.b Compute priorities"
   ]
  },
  {
   "cell_type": "code",
   "execution_count": 75,
   "id": "de05d9f2-e7ec-4a67-89b6-3b3602983d5e",
   "metadata": {},
   "outputs": [],
   "source": [
    "def is_in_image(i,j,image):\n",
    "    H,W = image.shape\n",
    "    return (0<=i<H) and (0<=j<W)\n",
    "\n",
    "def update_confidence(border_map,confidence_map,filled_region_mask,patch_size):\n",
    "    delta = patch_size//2\n",
    "    border_points = np.column_stack(np.where(border_map==1))\n",
    "    for (y,x) in border_points:\n",
    "        confidence = 0\n",
    "        for dx in range(-delta,delta+1):\n",
    "            for dy in range(-delta,delta+1):\n",
    "                ny, nx = y+dy, x+dx\n",
    "                if (is_in_image(ny,nx,border_map)) and filled_region_mask[ny,nx]==1:\n",
    "                    confidence += confidence_map[ny,nx]\n",
    "        confidence /= patch_size**2\n",
    "        confidence_map[y,x] = confidence\n",
    "\n",
    "def compute_gradient(image):\n",
    "    gray_image = cv2.cvtColor((image * 255).astype(np.uint8), cv2.COLOR_RGB2GRAY)\n",
    "    grad_x = cv2.Sobel(gray_image, cv2.CV_64F, 1, 0, ksize=3)\n",
    "    grad_y = cv2.Sobel(gray_image, cv2.CV_64F, 0, 1, ksize=3)\n",
    "    return grad_x, grad_y\n",
    "\n",
    "def compute_normal(x, y, filled_region_mask):\n",
    "    kernel = np.array([[1, 1, 1],\n",
    "                       [1, -8, 1],\n",
    "                       [1, 1, 1]])\n",
    "    H, W = filled_region_mask.shape[:2]\n",
    "    x_minus_1 = max(0,x-1)\n",
    "    x_plus_1 = min(W-1,x+1)\n",
    "    y_minus_1 = max(0,y-1)\n",
    "    y_plus_1 = min(H-1,y+1)\n",
    "    grad = convolve(filled_region_mask.astype(np.float32), kernel, mode='constant')\n",
    "    nx = grad[y, x_plus_1] - grad[y, x_minus_1]\n",
    "    ny = grad[y_plus_1, x] - grad[y_minus_1, x]\n",
    "    norm = np.sqrt(nx**2 + ny**2)\n",
    "    if norm == 0:\n",
    "        return 0, 0\n",
    "    return nx / norm, ny / norm\n",
    "\n",
    "def compute_data(border_map,image,filled_region_mask):\n",
    "    border_points = np.column_stack(np.where(border_map==1))\n",
    "    border_points_with_gradients = []\n",
    "    grad_x, grad_y = compute_gradient(image)\n",
    "    for (y,x) in border_points:\n",
    "        gx = grad_x[y, x]\n",
    "        gy = grad_y[y, x]\n",
    "        n_x, n_y = compute_normal(x,y,filled_region_mask)\n",
    "        data_value = np.abs(gx*n_x+gy*n_y)/255\n",
    "        border_points_with_gradients.append(((y,x),data_value))\n",
    "    return border_points_with_gradients"
   ]
  },
  {
   "cell_type": "markdown",
   "id": "82008c68-a640-45df-adad-611ee198eb3c",
   "metadata": {},
   "source": [
    "### Etape 2.a Find the patch with maximum priority"
   ]
  },
  {
   "cell_type": "code",
   "execution_count": 76,
   "id": "0545a5a0-62a5-48c2-a915-a143ba16e938",
   "metadata": {},
   "outputs": [],
   "source": [
    "def compute_next_pixel_by_priority(border_map,confidence_map,filled_region_mask,image,patch_size):\n",
    "    update_confidence(border_map,confidence_map,filled_region_mask,patch_size)\n",
    "    border_points_with_gradients = compute_data(border_map,image,filled_region_mask)\n",
    "    xmax, ymax = 0, 0\n",
    "    priority_max = -np.inf\n",
    "    for ((y, x), data) in border_points_with_gradients:\n",
    "        priority = confidence_map[y,x] * data\n",
    "        if priority > priority_max:\n",
    "            xmax, ymax = x, y\n",
    "            priority_max = priority\n",
    "    return (xmax,ymax)\n",
    "\n",
    "def compute_mask_around_pixel(x,y,filled_region_mask,patch_size):\n",
    "    mask = np.zeros((patch_size,patch_size,3))\n",
    "    delta = patch_size//2\n",
    "    for dx in range(-delta,delta+1):\n",
    "        for dy in range(-delta,delta+1):\n",
    "            ny, nx = y+dy, x+dx\n",
    "            if (is_in_image(ny,nx,filled_region_mask) and filled_region_mask[ny,nx]==1) :\n",
    "                mask[dy+delta,dx+delta,:] = 1\n",
    "    return mask"
   ]
  },
  {
   "cell_type": "markdown",
   "id": "fda8bebf-679a-4bb8-aeff-77fe2019c881",
   "metadata": {},
   "source": [
    "### Etape 2.b Find the exemplar patch that minimises the SSD"
   ]
  },
  {
   "cell_type": "code",
   "execution_count": 77,
   "id": "6ced046c-9de2-4764-bc72-1bd0a1db8042",
   "metadata": {},
   "outputs": [],
   "source": [
    "image_copy = np.copy(image_np)\n",
    "\n",
    "def compute_SSD(target_x,target_y,source_patch,mask,image):\n",
    "    H, W = image.shape[:2]\n",
    "    patch_size = source_patch.shape[0]\n",
    "    delta = patch_size//2\n",
    "    x_min = max(0,target_x-delta)\n",
    "    x_max = min(W,target_x+delta+1)\n",
    "    y_min = max(0,target_y-delta)\n",
    "    y_max = min(H,target_y+delta+1)\n",
    "\n",
    "    extracted_patch_height = y_max - y_min\n",
    "    extracted_patch_width = x_max - x_min\n",
    "    \n",
    "    target_patch = np.zeros_like(source_patch)\n",
    "    \n",
    "    target_patch[0:extracted_patch_height, 0:extracted_patch_width, :] = image[y_min:y_max, x_min:x_max, :]\n",
    "\n",
    "    diff_all = (target_patch-source_patch)**2\n",
    "    diff = diff_all * mask\n",
    "    SSD = np.sum(diff) \n",
    "    return SSD\n",
    "    \n",
    "def is_outside(i,j,filled_region_mask,patch_size):\n",
    "    delta = patch_size//2\n",
    "    H, W = filled_region_mask.shape\n",
    "    if i - delta < 0 or i + delta >= W or j - delta < 0 or j + delta >= H:\n",
    "        return False\n",
    "    considered_patch = filled_region_mask[j-delta:j+delta+1,i-delta:i+delta+1]\n",
    "    return np.sum(considered_patch)==patch_size**2\n",
    "    \n",
    "def find_best_matching_patch(x,y,mask,filled_region_mask,image,patch_size,search_radius=None):\n",
    "    delta = patch_size//2\n",
    "    if search_radius is None:\n",
    "        search_radius = int(image.shape[0] / 2)\n",
    "    H, W = image.shape[:2]\n",
    "    # x_min = max(delta,x-search_radius)\n",
    "    # x_max = min(W-delta,x+search_radius)\n",
    "    # y_min = max(delta,y-search_radius)\n",
    "    # y_max = min(H-delta,y+search_radius)\n",
    "    min_SSD = float('inf')\n",
    "    optimal_x, optimal_y = 0, 0\n",
    "\n",
    "    \n",
    "    for i in range(delta,W-delta):\n",
    "        for j in range(delta,H-delta):\n",
    "            if is_outside(i,j,filled_region_mask,patch_size):\n",
    "                source_patch = image[j-delta:j+delta+1,i-delta:i+delta+1]\n",
    "                current_SSD = compute_SSD(x,y,source_patch,mask,image)\n",
    "                if (current_SSD<min_SSD):\n",
    "                    min_SSD = current_SSD\n",
    "                    optimal_x = i\n",
    "                    optimal_y = j\n",
    "    return optimal_x, optimal_y"
   ]
  },
  {
   "cell_type": "markdown",
   "id": "3ed51d51-a07b-4735-9f06-2a8d39198dc7",
   "metadata": {},
   "source": [
    "### Etape 2.c et 3. Copy image data from Ψqˆ to Ψpˆ + update confidence."
   ]
  },
  {
   "cell_type": "code",
   "execution_count": 78,
   "id": "1d920f53-e0b3-448a-9c96-16eb40ed8565",
   "metadata": {},
   "outputs": [],
   "source": [
    "from scipy.ndimage import convolve\n",
    "def copy_image_data(source_x,source_y,target_x,target_y,mask,filled_region_mask,image,confidence_map):\n",
    "    patch_size = mask.shape[0]\n",
    "    delta = patch_size//2\n",
    "    for i in range(-delta,delta+1):\n",
    "        for j in range(-delta,delta+1):\n",
    "            current_source_x, current_source_y = source_x+i, source_y+j\n",
    "            current_target_x, current_target_y = target_x+i, target_y+j\n",
    "            if is_in_image(current_target_y,current_target_x,filled_region_mask) and np.all(mask[j+delta,i+delta,:])==0:\n",
    "                image[current_target_y,current_target_x,:] = image[current_source_y,current_source_x,:]\n",
    "                filled_region_mask[current_target_y,current_target_x] = 1\n",
    "                confidence_map[current_target_y,current_target_x] = confidence_map[target_y,target_x]\n",
    "\n",
    "def update_border(filled_region_mask):\n",
    "    neighbor_kernel = np.array([[1,1,1],\n",
    "                          [1,0,1],\n",
    "                          [1,1,1]])\n",
    "    not_filled_mask = (1-filled_region_mask).astype(bool)\n",
    "    has_filled_neighbor = (convolve(filled_region_mask,neighbor_kernel,mode='constant',cval=0)>=1)\n",
    "    new_border = (not_filled_mask) & (has_filled_neighbor)\n",
    "    return new_border"
   ]
  },
  {
   "cell_type": "markdown",
   "id": "b608003e-f3c7-42af-89c5-44076e0cdf6e",
   "metadata": {},
   "source": [
    "### Final implementation"
   ]
  },
  {
   "cell_type": "code",
   "execution_count": null,
   "id": "6031ad5f-d9a1-42ee-a5ee-7c14ea44da0b",
   "metadata": {},
   "outputs": [
    {
     "name": "stdout",
     "output_type": "stream",
     "text": [
      "35713\n"
     ]
    },
    {
     "name": "stderr",
     "output_type": "stream",
     "text": [
      " 18%|██████▌                              | 6383/35713 [00:39<03:27, 141.06it/s]"
     ]
    }
   ],
   "source": [
    "from tqdm import tqdm\n",
    "# Charger les images\n",
    "image = Image.open(\"image_cercle.png\")\n",
    "mask_border = Image.open(\"mask_border.png\")\n",
    "filled_region_mask = Image.open(\"filled_region_mask.png\")\n",
    "\n",
    "# Convertir l'image en tableau NumPy\n",
    "mask_border = np.array(mask_border)/255\n",
    "filled_region_mask = np.array(filled_region_mask)/255\n",
    "image = np.array(image)/255\n",
    "initial_region_size = np.sum(filled_region_mask == 0)\n",
    "alpha_channel = image[:,:,3]\n",
    "image = image[:,:,:3]\n",
    "image_cielab = cv2.cvtColor((255*image).astype(np.uint8), cv2.COLOR_RGB2Lab)\n",
    "\n",
    "print(np.sum(filled_region_mask == 0))\n",
    "confidence_map = np.copy(filled_region_mask)\n",
    "patch_size = 51\n",
    "\n",
    "with tqdm(total=initial_region_size) as pbar:\n",
    "    while np.sum(filled_region_mask == 0) > 0:\n",
    "        current_x, current_y = compute_next_pixel_by_priority(mask_border,confidence_map,filled_region_mask,image,patch_size)\n",
    "        mask_patch = compute_mask_around_pixel(current_x,current_y,filled_region_mask,patch_size)\n",
    "        source_x, source_y = find_best_matching_patch(current_x, current_y,mask_patch,filled_region_mask,image,patch_size)\n",
    "        copy_image_data(source_x,source_y,current_x,current_y,mask_patch,filled_region_mask,image,confidence_map)\n",
    "        mask_border = update_border(filled_region_mask)\n",
    "        #cv2.imwrite(\"border.png\", mask_border * 255)\n",
    "        #cv2.imwrite(\"filled.png\", filled_region_mask * 255)\n",
    "        remaining = np.sum(filled_region_mask == 0)\n",
    "        pbar.update(initial_region_size - remaining)\n",
    "        initial_region_size = remaining\n",
    "\n",
    "#cv2.cvtColor(image, cv2.COLOR_Lab2RGB)\n",
    "image = np.dstack([image, alpha_channel])\n",
    "# Sauvegarder l'image au format PNG\n",
    "image = (255 * image).astype(np.uint8)\n",
    "image = Image.fromarray(image, 'RGBA')\n",
    "\n",
    "# Sauvegarder l'image au format PNG\n",
    "image.save(\"image_cercle_color_inpaint.png\")"
   ]
  }
 ],
 "metadata": {
  "kernelspec": {
   "display_name": "Python 3 (ipykernel)",
   "language": "python",
   "name": "python3"
  },
  "language_info": {
   "codemirror_mode": {
    "name": "ipython",
    "version": 3
   },
   "file_extension": ".py",
   "mimetype": "text/x-python",
   "name": "python",
   "nbconvert_exporter": "python",
   "pygments_lexer": "ipython3",
   "version": "3.12.0"
  }
 },
 "nbformat": 4,
 "nbformat_minor": 5
}
